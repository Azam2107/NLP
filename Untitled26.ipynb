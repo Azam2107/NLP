{
  "nbformat": 4,
  "nbformat_minor": 0,
  "metadata": {
    "colab": {
      "name": "Untitled26.ipynb",
      "provenance": []
    },
    "kernelspec": {
      "name": "python3",
      "display_name": "Python 3"
    }
  },
  "cells": [
    {
      "cell_type": "code",
      "metadata": {
        "id": "pujKbR8ZgvoA"
      },
      "source": [
        "import nltk\r\n",
        "nltk.download('all')\r\n",
        "from nltk.corpus import movie_reviews\r\n",
        "from nltk.tokenize import PunktSentenceTokenizer"
      ],
      "execution_count": null,
      "outputs": []
    },
    {
      "cell_type": "code",
      "metadata": {
        "id": "d5KFTFZ5g2Zy"
      },
      "source": [
        "movie_reviews.fileids()"
      ],
      "execution_count": null,
      "outputs": []
    },
    {
      "cell_type": "code",
      "metadata": {
        "id": "cQCr2b5Cg56A"
      },
      "source": [
        "Movie=movie_reviews.raw('neg/cv059_28723.txt')\r\n",
        "Movie"
      ],
      "execution_count": null,
      "outputs": []
    },
    {
      "cell_type": "code",
      "metadata": {
        "id": "A_HOkyA0hGHK"
      },
      "source": [
        "sentence_tokenizer=PunktSentenceTokenizer(Movie)\r\n",
        "sentence_tokenizer"
      ],
      "execution_count": null,
      "outputs": []
    },
    {
      "cell_type": "code",
      "metadata": {
        "id": "OvGdvWI_hSxh"
      },
      "source": [
        "tokenized_reviews=sentence_tokenizer.tokenize(Movie)\r\n",
        "tokenized_reviews"
      ],
      "execution_count": null,
      "outputs": []
    },
    {
      "cell_type": "code",
      "metadata": {
        "id": "rI1wkiHMhUkK"
      },
      "source": [
        "def process():\r\n",
        "  for i in tokenized_reviews:\r\n",
        "    words=nltk.word_tokenize(i)\r\n",
        "    tag=nltk.pos_tag(words)\r\n",
        "    print(tag)\r\n",
        "process()"
      ],
      "execution_count": null,
      "outputs": []
    },
    {
      "cell_type": "code",
      "metadata": {
        "id": "_LIMU-b4iEnh"
      },
      "source": [
        "movie_reviews.categories()"
      ],
      "execution_count": null,
      "outputs": []
    },
    {
      "cell_type": "code",
      "metadata": {
        "id": "2yUr_w0RiJ5h"
      },
      "source": [
        "movie_reviews.fileids('pos')"
      ],
      "execution_count": null,
      "outputs": []
    },
    {
      "cell_type": "code",
      "metadata": {
        "id": "bF3ebceriL9C"
      },
      "source": [
        "Movie2=movie_reviews.raw('pos/cv985_6359.txt')\r\n",
        "sentence_tokenizer=PunktSentenceTokenizer(Movie2)\r\n",
        "Positive=sentence_tokenizer.tokenize(Movie2)\r\n",
        "Positive"
      ],
      "execution_count": null,
      "outputs": []
    },
    {
      "cell_type": "code",
      "metadata": {
        "id": "PTDiEqCpiaaJ"
      },
      "source": [
        "def process():\r\n",
        "  for i in tokenized_reviews:\r\n",
        "    words=nltk.word_tokenize(i)\r\n",
        "    tag=nltk.pos_tag(words)\r\n",
        "    print(tag)\r\n",
        "process()"
      ],
      "execution_count": null,
      "outputs": []
    },
    {
      "cell_type": "markdown",
      "metadata": {
        "id": "7e41wfsfikrj"
      },
      "source": [
        "# 2"
      ]
    },
    {
      "cell_type": "code",
      "metadata": {
        "id": "RRjrcPb9icvo"
      },
      "source": [
        "from nltk.corpus import stopwords\r\n",
        "stopword=stopwords.words('english')\r\n",
        "stopword"
      ],
      "execution_count": null,
      "outputs": []
    },
    {
      "cell_type": "code",
      "metadata": {
        "id": "ABzu24gYinTo"
      },
      "source": [
        "num_text=0\r\n",
        "def removestop(num_text):\r\n",
        "  for i in tokenized_reviews:\r\n",
        "    words=nltk.word_tokenize(i)\r\n",
        "    if words not in stopword:\r\n",
        "      num_text=num_text+1\r\n",
        "  print(num_text)\r\n",
        "removestop(num_text)"
      ],
      "execution_count": null,
      "outputs": []
    }
  ]
}